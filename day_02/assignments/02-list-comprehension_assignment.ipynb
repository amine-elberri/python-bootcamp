{
  "cells": [
    {
      "cell_type": "markdown",
      "metadata": {
        "id": "mhFAfZE4olux"
      },
      "source": [
        "# List Comprehension exercises"
      ]
    },
    {
      "cell_type": "code",
      "execution_count": null,
      "metadata": {
        "id": "1mN3wCjVolu0"
      },
      "outputs": [],
      "source": [
        "fruits = ['mango', 'kiwi', 'strawberry', 'guava', 'pineapple', 'mandarin orange']\n",
        "\n",
        "numbers = [2, 3, 4, 5, 6, 7, 8, 9, 10, 11, 13, 17, 19, 23, 256, -8, -4, -2, 5, -9]\n",
        "\n",
        "# Example for loop solution to add 1 to each number in the list\n",
        "numbers_plus_one = []\n",
        "for number in numbers:\n",
        "    numbers_plus_one.append(number + 1)\n",
        "\n",
        "# Example of using a list comprehension to create a list of the numbers plus one.\n",
        "numbers_plus_one = [number + 1 for number in numbers]\n",
        "\n",
        "# Example code that creates a list of all of the list of strings in fruits and uppercases every string\n",
        "output = []\n",
        "for fruit in fruits:\n",
        "    output.append(fruit.upper())"
      ]
    },
    {
      "cell_type": "markdown",
      "metadata": {
        "id": "OdeKd7e5olu2"
      },
      "source": [
        "## Exercise 1 \n",
        "\n",
        "Rewrite the above example code using list comprehension syntax. Make a variable `named uppercased_fruits` to hold the output of the list comprehension. \n",
        "- Desired output:\n",
        "```python\n",
        ">>> ['MANGO', 'KIWI', ...]\n",
        "```"
      ]
    },
    {
      "cell_type": "code",
      "execution_count": 29,
      "metadata": {
        "id": "ZVyBJFRTolu4",
        "outputId": "99183c97-e34a-40ed-8851-408061a3f4bb",
        "colab": {
          "base_uri": "https://localhost:8080/"
        }
      },
      "outputs": [
        {
          "output_type": "stream",
          "name": "stdout",
          "text": [
            "['MANGO', 'KIWI', 'STRAWBERRY', 'GUAVA', 'PINEAPPLE', 'MANDARIN ORANGE']\n"
          ]
        }
      ],
      "source": [
        "FRUITS=[fruit.upper() for fruit in fruits]\n",
        "print(FRUITS)"
      ]
    },
    {
      "cell_type": "markdown",
      "metadata": {
        "id": "HGHkidP9olu5"
      },
      "source": [
        "## Exercise 2 \n",
        "\n",
        "Create a variable named `capitalized_fruits` and use list comprehension syntax to produce \n",
        "- Desired output: \n",
        "```python\n",
        ">>> ['Mango', 'Kiwi', 'Strawberry', ...]\n",
        "```"
      ]
    },
    {
      "cell_type": "code",
      "execution_count": 28,
      "metadata": {
        "id": "Jell96U4olu6",
        "outputId": "8c390dcd-ecfc-4767-b66d-1c836ada4578",
        "colab": {
          "base_uri": "https://localhost:8080/"
        }
      },
      "outputs": [
        {
          "output_type": "stream",
          "name": "stdout",
          "text": [
            "['Mango', 'Kiwi', 'Strawberry', 'Guava', 'Pineapple', 'Mandarin orange']\n"
          ]
        }
      ],
      "source": [
        "Fruits=[fruit.capitalize() for fruit in fruits]\n",
        "print(Fruits)"
      ]
    },
    {
      "cell_type": "markdown",
      "metadata": {
        "id": "erNzy-x7olu8"
      },
      "source": [
        "## Exercise 3\n",
        "\n",
        "Make a list that contains each fruit with exactly 5 characters"
      ]
    },
    {
      "cell_type": "code",
      "execution_count": 27,
      "metadata": {
        "id": "baCJ_Dfkolu9",
        "outputId": "0d80457c-df13-4529-dbcc-449f27fbb812",
        "colab": {
          "base_uri": "https://localhost:8080/"
        }
      },
      "outputs": [
        {
          "output_type": "stream",
          "name": "stdout",
          "text": [
            "['mango', 'guava']\n"
          ]
        }
      ],
      "source": [
        "fruits5=[fruit for fruit in fruits if len(fruit)==5]\n",
        "print(fruits5)"
      ]
    },
    {
      "cell_type": "markdown",
      "metadata": {
        "id": "YqwiZ3Fwolu_"
      },
      "source": [
        "## Exercise 4\n",
        "\n",
        "Make a list containing the number of characters in each fruit. \n",
        "- Desired output\n",
        "```python \n",
        ">>> [5, 4, 10, ... ]\n",
        "```"
      ]
    },
    {
      "cell_type": "code",
      "execution_count": 25,
      "metadata": {
        "id": "WiJ_pod8olvA",
        "outputId": "54588a44-9227-4e08-f9b9-879a8f6cfba0",
        "colab": {
          "base_uri": "https://localhost:8080/"
        }
      },
      "outputs": [
        {
          "output_type": "execute_result",
          "data": {
            "text/plain": [
              "[5, 4, 10, 5, 9, 15]"
            ]
          },
          "metadata": {},
          "execution_count": 25
        }
      ],
      "source": [
        "char_fruit=[len(fruit) for fruit in fruits]\n",
        "char_fruit"
      ]
    },
    {
      "cell_type": "markdown",
      "metadata": {
        "id": "M-X4hJLsolvC"
      },
      "source": [
        "## Exercise 5\n",
        "\n",
        "Make a variable named `odd_negative_numbers` that contains only the numbers that are both odd and negative.\n",
        "- Input:\n",
        "```python\n",
        "import numpy as np\n",
        "np.random.seed(10)\n",
        ">>> arr = np.random.randint(low=-100, high=100, size=(50,))\n",
        "```\n",
        "- Desired output:\n",
        "```python\n",
        ">>> odd_negative_numbers\n",
        ">>> [-91, -85, -27, -67, -23, -87, -11, -35, -69, -43, -73, -7, -23]\n",
        "```"
      ]
    },
    {
      "cell_type": "code",
      "execution_count": 24,
      "metadata": {
        "id": "l1lMDGwgolvD",
        "outputId": "ff15cc3a-860a-4221-9d96-6f1f7df946fa",
        "colab": {
          "base_uri": "https://localhost:8080/"
        }
      },
      "outputs": [
        {
          "output_type": "stream",
          "name": "stdout",
          "text": [
            "[-99, -97, -95, -93, -91, -89, -87, -85, -83, -81, -79, -77, -75, -73, -71, -69, -67, -65, -63, -61, -59, -57, -55, -53, -51, -49, -47, -45, -43, -41, -39, -37, -35, -33, -31, -29, -27, -25, -23, -21, -19, -17, -15, -13, -11, -9, -7, -5, -3, -1]\n"
          ]
        }
      ],
      "source": [
        "numbers=range(-100,100,1)\n",
        "odd_negative_numbers=[number for number in numbers if number%2!=0 and number<0]\n",
        "print(odd_negative_numbers)"
      ]
    },
    {
      "cell_type": "markdown",
      "metadata": {
        "id": "TvkZATQYolvE"
      },
      "source": [
        "## Exercise 6\n",
        "\n",
        "`if...else` With List Comprehension\n",
        "- Input:\n",
        "```python\n",
        ">>> list1 = range(10)\n",
        "```\n",
        "- Desired output:\n",
        "```python\n",
        ">>> ['Even', 'Odd', 'Even', 'Odd', 'Even', 'Odd', 'Even', 'Odd', 'Even', 'Odd']\n",
        "```"
      ]
    },
    {
      "cell_type": "code",
      "execution_count": 23,
      "metadata": {
        "id": "TNpSeeaHolvE",
        "outputId": "9c7129e1-32dd-4b67-a247-eabfcb22954e",
        "colab": {
          "base_uri": "https://localhost:8080/"
        }
      },
      "outputs": [
        {
          "output_type": "stream",
          "name": "stdout",
          "text": [
            "['Even', 'Odd', 'Even', 'Odd', 'Even', 'Odd', 'Even', 'Odd', 'Even', 'Odd']\n"
          ]
        }
      ],
      "source": [
        "list1 = range(10)\n",
        "even_odd=[\"Even\" if i%2==0 else \"Odd\" for i in list1]\n",
        "print(even_odd)"
      ]
    },
    {
      "cell_type": "markdown",
      "metadata": {
        "id": "yLdjRCtLolvF"
      },
      "source": [
        "## Exercise 7\n",
        "\n",
        "Compute the transpose of a Matrix using List Comprehension\n",
        "\n",
        "- Input:\n",
        "```python\n",
        ">>> matrix = [[1, 2], [3,4], [5,6], [7,8]]\n",
        "```\n",
        "- Desired output:\n",
        "```python\n",
        ">>> [[1, 3, 5, 7], [2, 4, 6, 8]]\n",
        "```"
      ]
    },
    {
      "cell_type": "code",
      "execution_count": 21,
      "metadata": {
        "id": "xHW-LadlolvF",
        "outputId": "2b3425ab-7c3d-401e-b978-2da7955da3c6",
        "colab": {
          "base_uri": "https://localhost:8080/"
        }
      },
      "outputs": [
        {
          "output_type": "execute_result",
          "data": {
            "text/plain": [
              "[[1, 3, 5, 7], [2, 4, 6, 8]]"
            ]
          },
          "metadata": {},
          "execution_count": 21
        }
      ],
      "source": [
        "matrix = [[1, 2], [3,4], [5,6], [7,8]]\n",
        "matrix_transpose=[[row[i] for row in matrix] for i in range(2)]\n",
        "matrix_transpose"
      ]
    },
    {
      "cell_type": "code",
      "source": [],
      "metadata": {
        "id": "GQj8BtF4o7G_"
      },
      "execution_count": null,
      "outputs": []
    }
  ],
  "metadata": {
    "hide_input": false,
    "kernelspec": {
      "display_name": "Python 3",
      "language": "python",
      "name": "python3"
    },
    "language_info": {
      "codemirror_mode": {
        "name": "ipython",
        "version": 3
      },
      "file_extension": ".py",
      "mimetype": "text/x-python",
      "name": "python",
      "nbconvert_exporter": "python",
      "pygments_lexer": "ipython3",
      "version": "3.8.5"
    },
    "colab": {
      "provenance": []
    }
  },
  "nbformat": 4,
  "nbformat_minor": 0
}